{
  "cells": [
    {
      "cell_type": "code",
      "source": [
        "import azureml.core\r\n",
        "\r\n",
        "print(\"You are currently using version\", azureml.core.VERSION, \"of the Azure ML SDK.\")"
      ],
      "outputs": [
        {
          "output_type": "stream",
          "name": "stdout",
          "text": "You are currently using version 1.38.0 of the Azure ML SDK.\n"
        }
      ],
      "execution_count": 1,
      "metadata": {
        "gather": {
          "logged": 1650196373873
        }
      }
    },
    {
      "cell_type": "code",
      "source": [
        "from azureml.core.workspace import Workspace\r\n",
        "\r\n",
        "ws = Workspace.from_config()"
      ],
      "outputs": [],
      "execution_count": 2,
      "metadata": {
        "jupyter": {
          "source_hidden": false,
          "outputs_hidden": false
        },
        "nteract": {
          "transient": {
            "deleting": false
          }
        },
        "gather": {
          "logged": 1650196377253
        }
      }
    },
    {
      "cell_type": "code",
      "source": [
        "from azureml.core.compute import AmlCompute, ComputeTarget\r\n",
        "\r\n",
        "cluster_name = \"NC6Cluster\"\r\n",
        "\r\n",
        "try:\r\n",
        "    compute_target = ws.compute_targets[cluster_name]\r\n",
        "    print(\"Found existing compute target.\")\r\n",
        "except KeyError:\r\n",
        "    print(\"Creating a new compute target...\")\r\n",
        "    compute_config = AmlCompute.provisioning_configuration(\r\n",
        "        vm_size=\"Standard_NC6\",\r\n",
        "        idle_seconds_before_scaledown=600,\r\n",
        "        min_nodes=0,\r\n",
        "        max_nodes=4,\r\n",
        "    )\r\n",
        "    compute_target = ComputeTarget.create(ws, cluster_name, compute_config)\r\n",
        "# Can poll for a minimum number of nodes and for a specific timeout.\r\n",
        "# If no min_node_count is provided, it will use the scale settings for the cluster.\r\n",
        "compute_target.wait_for_completion(\r\n",
        "    show_output=True, min_node_count=None, timeout_in_minutes=20\r\n",
        ")"
      ],
      "outputs": [
        {
          "output_type": "stream",
          "name": "stdout",
          "text": "Found existing compute target.\nSucceeded\nAmlCompute wait for completion finished\n\nMinimum number of nodes requested have been provisioned\n"
        }
      ],
      "execution_count": 3,
      "metadata": {
        "jupyter": {
          "source_hidden": false,
          "outputs_hidden": false
        },
        "nteract": {
          "transient": {
            "deleting": false
          }
        },
        "gather": {
          "logged": 1650196379761
        }
      }
    },
    {
      "cell_type": "code",
      "source": [
        "from azureml.core import Experiment\r\n",
        "\r\n",
        "experiment_name = \"automl-image-multiclass-xray\"\r\n",
        "experiment = Experiment(ws, name=experiment_name)"
      ],
      "outputs": [],
      "execution_count": 4,
      "metadata": {
        "jupyter": {
          "source_hidden": false,
          "outputs_hidden": false
        },
        "nteract": {
          "transient": {
            "deleting": false
          }
        },
        "gather": {
          "logged": 1650196402756
        }
      }
    },
    {
      "cell_type": "code",
      "source": [
        "from azureml.core import Dataset\r\n",
        "from azureml.data import DataType\r\n",
        "\r\n",
        "# get existing training dataset\r\n",
        "training_dataset_name = \"XrayTrainingDataset\"\r\n",
        "if training_dataset_name in ws.datasets:\r\n",
        "    training_dataset = ws.datasets.get(training_dataset_name)\r\n",
        "    print(\"Found the training dataset\", training_dataset_name)\r\n",
        "\r\n",
        "# get existing validation dataset\r\n",
        "validation_dataset_name = \"XrayValidationDataset\"\r\n",
        "if validation_dataset_name in ws.datasets:\r\n",
        "    validation_dataset = ws.datasets.get(validation_dataset_name)\r\n",
        "    print(\"Found the validation dataset\", validation_dataset_name)\r\n"
      ],
      "outputs": [
        {
          "output_type": "stream",
          "name": "stdout",
          "text": "Found the training dataset XrayTrainingDataset\nFound the validation dataset XrayValidationDataset\n"
        }
      ],
      "execution_count": 5,
      "metadata": {
        "jupyter": {
          "source_hidden": false,
          "outputs_hidden": false
        },
        "nteract": {
          "transient": {
            "deleting": false
          }
        },
        "gather": {
          "logged": 1650196442760
        }
      }
    },
    {
      "cell_type": "code",
      "source": [
        "training_dataset.to_pandas_dataframe()"
      ],
      "outputs": [
        {
          "output_type": "execute_result",
          "execution_count": 6,
          "data": {
            "text/plain": "                                             image_url      label\n0        workspaceblobstore/Xray/Covid/COVID19(59).jpg      Covid\n1         workspaceblobstore/Xray/Covid/COVID19(6).jpg      Covid\n2        workspaceblobstore/Xray/Covid/COVID19(60).jpg      Covid\n3        workspaceblobstore/Xray/Covid/COVID19(61).jpg      Covid\n4        workspaceblobstore/Xray/Covid/COVID19(62).jpg      Covid\n..                                                 ...        ...\n130  workspaceblobstore/Xray/Pneumonia/person994_vi...  Pneumonia\n131  workspaceblobstore/Xray/Pneumonia/person995_ba...  Pneumonia\n132  workspaceblobstore/Xray/Pneumonia/person995_vi...  Pneumonia\n133  workspaceblobstore/Xray/Pneumonia/person996_vi...  Pneumonia\n134  workspaceblobstore/Xray/Pneumonia/person9_bact...  Pneumonia\n\n[135 rows x 2 columns]",
            "text/html": "<div>\n<style scoped>\n    .dataframe tbody tr th:only-of-type {\n        vertical-align: middle;\n    }\n\n    .dataframe tbody tr th {\n        vertical-align: top;\n    }\n\n    .dataframe thead th {\n        text-align: right;\n    }\n</style>\n<table border=\"1\" class=\"dataframe\">\n  <thead>\n    <tr style=\"text-align: right;\">\n      <th></th>\n      <th>image_url</th>\n      <th>label</th>\n    </tr>\n  </thead>\n  <tbody>\n    <tr>\n      <th>0</th>\n      <td>workspaceblobstore/Xray/Covid/COVID19(59).jpg</td>\n      <td>Covid</td>\n    </tr>\n    <tr>\n      <th>1</th>\n      <td>workspaceblobstore/Xray/Covid/COVID19(6).jpg</td>\n      <td>Covid</td>\n    </tr>\n    <tr>\n      <th>2</th>\n      <td>workspaceblobstore/Xray/Covid/COVID19(60).jpg</td>\n      <td>Covid</td>\n    </tr>\n    <tr>\n      <th>3</th>\n      <td>workspaceblobstore/Xray/Covid/COVID19(61).jpg</td>\n      <td>Covid</td>\n    </tr>\n    <tr>\n      <th>4</th>\n      <td>workspaceblobstore/Xray/Covid/COVID19(62).jpg</td>\n      <td>Covid</td>\n    </tr>\n    <tr>\n      <th>...</th>\n      <td>...</td>\n      <td>...</td>\n    </tr>\n    <tr>\n      <th>130</th>\n      <td>workspaceblobstore/Xray/Pneumonia/person994_vi...</td>\n      <td>Pneumonia</td>\n    </tr>\n    <tr>\n      <th>131</th>\n      <td>workspaceblobstore/Xray/Pneumonia/person995_ba...</td>\n      <td>Pneumonia</td>\n    </tr>\n    <tr>\n      <th>132</th>\n      <td>workspaceblobstore/Xray/Pneumonia/person995_vi...</td>\n      <td>Pneumonia</td>\n    </tr>\n    <tr>\n      <th>133</th>\n      <td>workspaceblobstore/Xray/Pneumonia/person996_vi...</td>\n      <td>Pneumonia</td>\n    </tr>\n    <tr>\n      <th>134</th>\n      <td>workspaceblobstore/Xray/Pneumonia/person9_bact...</td>\n      <td>Pneumonia</td>\n    </tr>\n  </tbody>\n</table>\n<p>135 rows × 2 columns</p>\n</div>"
          },
          "metadata": {}
        }
      ],
      "execution_count": 6,
      "metadata": {
        "jupyter": {
          "source_hidden": false,
          "outputs_hidden": false
        },
        "nteract": {
          "transient": {
            "deleting": false
          }
        },
        "gather": {
          "logged": 1650196449285
        }
      }
    },
    {
      "cell_type": "code",
      "source": [
        "from azureml.automl.core.shared.constants import ImageTask\r\n",
        "from azureml.train.automl import AutoMLImageConfig\r\n",
        "from azureml.train.hyperdrive import GridParameterSampling, choice\r\n",
        "\r\n",
        "image_config_resnet = AutoMLImageConfig(\r\n",
        "    task=ImageTask.IMAGE_CLASSIFICATION,\r\n",
        "    compute_target=compute_target,\r\n",
        "    training_data=training_dataset,\r\n",
        "    validation_data=validation_dataset,\r\n",
        "    hyperparameter_sampling=GridParameterSampling({\"model_name\": choice(\"resnet34\")}),\r\n",
        "    iterations=1,\r\n",
        ")"
      ],
      "outputs": [],
      "execution_count": 7,
      "metadata": {
        "jupyter": {
          "source_hidden": false,
          "outputs_hidden": false
        },
        "nteract": {
          "transient": {
            "deleting": false
          }
        },
        "gather": {
          "logged": 1650196454035
        }
      }
    },
    {
      "cell_type": "code",
      "source": [
        "automl_image_run = experiment.submit(image_config_resnet)"
      ],
      "outputs": [
        {
          "output_type": "stream",
          "name": "stdout",
          "text": "Submitting remote run.\n"
        },
        {
          "output_type": "display_data",
          "data": {
            "text/plain": "<IPython.core.display.HTML object>",
            "text/html": "<table style=\"width:100%\"><tr><th>Experiment</th><th>Id</th><th>Type</th><th>Status</th><th>Details Page</th><th>Docs Page</th></tr><tr><td>automl-image-multiclass-xray</td><td>AutoML_54c2bfd4-18fa-4e53-9a5a-44df9f9c2d74</td><td>automl</td><td>NotStarted</td><td><a href=\"https://ml.azure.com/runs/AutoML_54c2bfd4-18fa-4e53-9a5a-44df9f9c2d74?wsid=/subscriptions/da21a094-26a3-472f-991b-e2b11979af40/resourcegroups/wit/workspaces/wit&amp;tid=df754217-29e5-4804-8f67-a71311a3cd0f\" target=\"_blank\" rel=\"noopener\">Link to Azure Machine Learning studio</a></td><td><a href=\"https://docs.microsoft.com/en-us/python/api/overview/azure/ml/intro?view=azure-ml-py\" target=\"_blank\" rel=\"noopener\">Link to Documentation</a></td></tr></table>"
          },
          "metadata": {}
        }
      ],
      "execution_count": 8,
      "metadata": {
        "jupyter": {
          "source_hidden": false,
          "outputs_hidden": false
        },
        "nteract": {
          "transient": {
            "deleting": false
          }
        },
        "gather": {
          "logged": 1650196463809
        }
      }
    },
    {
      "cell_type": "code",
      "source": [
        "automl_image_run.wait_for_completion(wait_post_processing=True)"
      ],
      "outputs": [],
      "execution_count": null,
      "metadata": {
        "jupyter": {
          "source_hidden": false,
          "outputs_hidden": false
        },
        "nteract": {
          "transient": {
            "deleting": false
          }
        }
      }
    },
    {
      "cell_type": "code",
      "source": [
        "from azureml.automl.core.shared.constants import ImageTask\r\n",
        "from azureml.train.automl import AutoMLImageConfig\r\n",
        "from azureml.train.hyperdrive import BanditPolicy, RandomParameterSampling\r\n",
        "from azureml.train.hyperdrive import choice, uniform\r\n",
        "\r\n",
        "parameter_space = {\r\n",
        "    \"learning_rate\": uniform(0.001, 0.01),\r\n",
        "    \"optimizer\": choice(\"sgd\", \"adam\"),\r\n",
        "    \"model\": choice(\r\n",
        "        {\r\n",
        "            \"model_name\": choice(\"vitb16r224\", \"vits16r224\"),\r\n",
        "            \"number_of_epochs\": choice(15, 30),\r\n",
        "        },\r\n",
        "        {\r\n",
        "            \"model_name\": choice(\"seresnext\", \"resnet18\", \"resnest50\", \"resnest101\"),\r\n",
        "            \"layers_to_freeze\": choice(0, 2),\r\n",
        "        },\r\n",
        "    ),\r\n",
        "}\r\n",
        "\r\n",
        "tuning_settings = {\r\n",
        "    \"iterations\": 10,\r\n",
        "    \"max_concurrent_iterations\": 2,\r\n",
        "    \"hyperparameter_sampling\": RandomParameterSampling(parameter_space),\r\n",
        "    \"early_termination_policy\": BanditPolicy(\r\n",
        "        evaluation_interval=2, slack_factor=0.2, delay_evaluation=6\r\n",
        "    ),\r\n",
        "}\r\n",
        "\r\n",
        "automl_image_config = AutoMLImageConfig(\r\n",
        "    task=ImageTask.IMAGE_CLASSIFICATION,\r\n",
        "    compute_target=compute_target,\r\n",
        "    training_data=training_dataset,\r\n",
        "    validation_data=validation_dataset,\r\n",
        "    experiment_timeout_hours=6,\r\n",
        "    **tuning_settings,\r\n",
        ")"
      ],
      "outputs": [],
      "execution_count": 12,
      "metadata": {
        "jupyter": {
          "source_hidden": false,
          "outputs_hidden": false
        },
        "nteract": {
          "transient": {
            "deleting": false
          }
        },
        "gather": {
          "logged": 1650198081912
        }
      }
    },
    {
      "cell_type": "code",
      "source": [
        "automl_image_run = experiment.submit(automl_image_config)"
      ],
      "outputs": [
        {
          "output_type": "stream",
          "name": "stdout",
          "text": "Submitting remote run.\n"
        },
        {
          "output_type": "display_data",
          "data": {
            "text/plain": "<IPython.core.display.HTML object>",
            "text/html": "<table style=\"width:100%\"><tr><th>Experiment</th><th>Id</th><th>Type</th><th>Status</th><th>Details Page</th><th>Docs Page</th></tr><tr><td>automl-image-multiclass-xray</td><td>AutoML_f7d265c6-dfa9-4105-b55b-b6e9673d1401</td><td>automl</td><td>NotStarted</td><td><a href=\"https://ml.azure.com/runs/AutoML_f7d265c6-dfa9-4105-b55b-b6e9673d1401?wsid=/subscriptions/da21a094-26a3-472f-991b-e2b11979af40/resourcegroups/wit/workspaces/wit&amp;tid=df754217-29e5-4804-8f67-a71311a3cd0f\" target=\"_blank\" rel=\"noopener\">Link to Azure Machine Learning studio</a></td><td><a href=\"https://docs.microsoft.com/en-us/python/api/overview/azure/ml/intro?view=azure-ml-py\" target=\"_blank\" rel=\"noopener\">Link to Documentation</a></td></tr></table>"
          },
          "metadata": {}
        }
      ],
      "execution_count": 13,
      "metadata": {
        "jupyter": {
          "source_hidden": false,
          "outputs_hidden": false
        },
        "nteract": {
          "transient": {
            "deleting": false
          }
        },
        "gather": {
          "logged": 1650199078998
        }
      }
    },
    {
      "cell_type": "code",
      "source": [
        "automl_image_run.wait_for_completion(wait_post_processing=True)"
      ],
      "outputs": [],
      "execution_count": null,
      "metadata": {
        "jupyter": {
          "source_hidden": false,
          "outputs_hidden": false
        },
        "nteract": {
          "transient": {
            "deleting": false
          }
        }
      }
    },
    {
      "cell_type": "code",
      "source": [
        "# Register the model from the best run\r\n",
        "\r\n",
        "best_child_run = automl_image_run.get_best_child()\r\n",
        "model_name = best_child_run.properties[\"model_name\"]\r\n",
        "model = best_child_run.register_model(\r\n",
        "    model_name=model_name, model_path=\"outputs/model.pt\"\r\n",
        ")"
      ],
      "outputs": [],
      "execution_count": null,
      "metadata": {
        "jupyter": {
          "source_hidden": false,
          "outputs_hidden": false
        },
        "nteract": {
          "transient": {
            "deleting": false
          }
        }
      }
    }
  ],
  "metadata": {
    "kernelspec": {
      "name": "python38-azureml",
      "language": "python",
      "display_name": "Python 3.8 - AzureML"
    },
    "language_info": {
      "name": "python",
      "version": "3.8.1",
      "mimetype": "text/x-python",
      "codemirror_mode": {
        "name": "ipython",
        "version": 3
      },
      "pygments_lexer": "ipython3",
      "nbconvert_exporter": "python",
      "file_extension": ".py"
    },
    "kernel_info": {
      "name": "python38-azureml"
    },
    "microsoft": {
      "host": {
        "AzureML": {
          "notebookHasBeenCompleted": true
        }
      }
    },
    "nteract": {
      "version": "nteract-front-end@1.0.0"
    }
  },
  "nbformat": 4,
  "nbformat_minor": 2
}