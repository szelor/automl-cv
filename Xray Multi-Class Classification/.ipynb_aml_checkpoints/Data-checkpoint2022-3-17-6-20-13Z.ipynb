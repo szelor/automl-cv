{
  "cells": [
    {
      "cell_type": "code",
      "source": [
        "%pip install kaggle --upgrade split-folders"
      ],
      "outputs": [
        {
          "output_type": "stream",
          "name": "stdout",
          "text": "Collecting kaggle\n  Using cached kaggle-1.5.12.tar.gz (58 kB)\nCollecting split-folders\n  Using cached split_folders-0.5.1-py3-none-any.whl (8.4 kB)\nRequirement already satisfied, skipping upgrade: six>=1.10 in /anaconda/envs/azureml_py36/lib/python3.6/site-packages (from kaggle) (1.15.0)\nRequirement already satisfied, skipping upgrade: certifi in /anaconda/envs/azureml_py36/lib/python3.6/site-packages (from kaggle) (2021.10.8)\nRequirement already satisfied, skipping upgrade: python-dateutil in /anaconda/envs/azureml_py36/lib/python3.6/site-packages (from kaggle) (2.8.2)\nRequirement already satisfied, skipping upgrade: requests in /anaconda/envs/azureml_py36/lib/python3.6/site-packages (from kaggle) (2.27.1)\nRequirement already satisfied, skipping upgrade: tqdm in /anaconda/envs/azureml_py36/lib/python3.6/site-packages (from kaggle) (4.62.3)\nCollecting python-slugify\n  Using cached python_slugify-6.1.1-py2.py3-none-any.whl (9.1 kB)\nRequirement already satisfied, skipping upgrade: urllib3 in /anaconda/envs/azureml_py36/lib/python3.6/site-packages (from kaggle) (1.26.7)\nRequirement already satisfied, skipping upgrade: idna<4,>=2.5; python_version >= \"3\" in /anaconda/envs/azureml_py36/lib/python3.6/site-packages (from requests->kaggle) (3.3)\nRequirement already satisfied, skipping upgrade: charset-normalizer~=2.0.0; python_version >= \"3\" in /anaconda/envs/azureml_py36/lib/python3.6/site-packages (from requests->kaggle) (2.0.10)\nCollecting text-unidecode>=1.3\n  Using cached text_unidecode-1.3-py2.py3-none-any.whl (78 kB)\nBuilding wheels for collected packages: kaggle\n  Building wheel for kaggle (setup.py) ... \u001b[?25l-\b \b\\\b \bdone\n\u001b[?25h  Created wheel for kaggle: filename=kaggle-1.5.12-py3-none-any.whl size=73053 sha256=9d58437a5a22284e972962de4c4c67696b64d94534d8a82b839fcd80b21a6110\n  Stored in directory: /home/azureuser/.cache/pip/wheels/77/47/e4/44a4ba1b7dfd53faaa35f59f1175e123b213ff401a8a56876b\nSuccessfully built kaggle\nInstalling collected packages: text-unidecode, python-slugify, kaggle, split-folders\nSuccessfully installed kaggle-1.5.12 python-slugify-6.1.1 split-folders-0.5.1 text-unidecode-1.3\nNote: you may need to restart the kernel to use updated packages.\n"
        }
      ],
      "execution_count": 1,
      "metadata": {}
    },
    {
      "cell_type": "code",
      "source": [
        "from azureml.core import Workspace, Dataset, Experiment\r\n",
        "\r\n",
        "workspace = Workspace.from_config()"
      ],
      "outputs": [],
      "execution_count": 2,
      "metadata": {
        "jupyter": {
          "source_hidden": false,
          "outputs_hidden": false
        },
        "nteract": {
          "transient": {
            "deleting": false
          }
        },
        "gather": {
          "logged": 1650174104892
        }
      }
    },
    {
      "cell_type": "code",
      "source": [
        "import json\r\n",
        "# Export Kaggle configuration variables\r\n",
        "%env KAGGLE_USERNAME=szelor\r\n",
        "%env KAGGLE_KEY=21cd02df9ad71ca909694a3733b5b22d"
      ],
      "outputs": [
        {
          "output_type": "stream",
          "name": "stdout",
          "text": "env: KAGGLE_USERNAME=szelor\nenv: KAGGLE_KEY=21cd02df9ad71ca909694a3733b5b22d\n"
        }
      ],
      "execution_count": 10,
      "metadata": {
        "jupyter": {
          "source_hidden": false,
          "outputs_hidden": false
        },
        "nteract": {
          "transient": {
            "deleting": false
          }
        },
        "gather": {
          "logged": 1650174635125
        }
      }
    },
    {
      "cell_type": "code",
      "source": [
        "!rm /tmp/chest-xray-pneumonia.zip\r\n",
        "!rm -r /tmp/chest_xray\r\n",
        "!rm -r /tmp/chest_xray_tvt\r\n",
        "\r\n",
        "# Download the Pneumonia dataset. ISSUE: Requires Python 3.6 AzureML kernel which is not available in newer Compute Instances\r\n",
        "!kaggle datasets download -d paultimothymooney/chest-xray-pneumonia -p /tmp\r\n",
        "\r\n",
        "!unzip -q /tmp/chest-xray-pneumonia.zip -d /tmp"
      ],
      "outputs": [
        {
          "output_type": "stream",
          "name": "stdout",
          "text": "rm: cannot remove '/tmp/chest-xray-pneumonia.zip': No such file or directory\nrm: cannot remove '/tmp/chest_xray': No such file or directory\nrm: cannot remove '/tmp/chest_xray_tvt': No such file or directory\nDownloading chest-xray-pneumonia.zip to /tmp\n100%|██████████████████████████████████████▉| 2.29G/2.29G [00:29<00:00, 108MB/s]\n100%|██████████████████████████████████████| 2.29G/2.29G [00:29<00:00, 84.4MB/s]\n"
        }
      ],
      "execution_count": 11,
      "metadata": {
        "jupyter": {
          "source_hidden": false,
          "outputs_hidden": false
        },
        "nteract": {
          "transient": {
            "deleting": false
          }
        },
        "gather": {
          "logged": 1650174691711
        }
      }
    },
    {
      "cell_type": "code",
      "source": [
        "import splitfolders\r\n",
        "\r\n",
        "download_root = '/tmp/chest_xray/train' \r\n",
        "train_val_test_root = '/tmp/chest_xray_tvt/'\r\n",
        "\r\n",
        "train_val_test_split = (0.8, 0.1, 0.1)\r\n",
        "random_seed = 33\r\n",
        "\r\n",
        "splitfolders.ratio(download_root, train_val_test_root, random_seed, ratio=train_val_test_split)"
      ],
      "outputs": [
        {
          "output_type": "stream",
          "name": "stderr",
          "text": "Copying files: 5216 files [00:01, 2657.85 files/s]\n"
        }
      ],
      "execution_count": 12,
      "metadata": {
        "jupyter": {
          "source_hidden": false,
          "outputs_hidden": false
        },
        "nteract": {
          "transient": {
            "deleting": false
          }
        },
        "gather": {
          "logged": 1650174793280
        }
      }
    },
    {
      "cell_type": "code",
      "source": [
        "from azureml.core import Workspace, Datastore, Dataset\r\n",
        "from azureml.data.datapath import DataPath\r\n",
        "\r\n",
        "# Upload data to AzureML Datastore\r\n",
        "ds = workspace.get_default_datastore()\r\n",
        "ds = Dataset.File.upload_directory(src_dir=train_val_test_root,\r\n",
        "            target=DataPath(ds, 'chest-xray'),\r\n",
        "            show_progress=False, overwrite=False)\r\n",
        "\r\n",
        "# Register file dataset with AzureML\r\n",
        "ds = ds.register(workspace=workspace, name=\"pneumonia\", description=\"Pneumonia train / val / test folders with 2 classes\", create_new_version=True)\r\n",
        "\r\n",
        "print(f'Dataset {ds.name} registered.')"
      ],
      "outputs": [],
      "execution_count": null,
      "metadata": {
        "jupyter": {
          "source_hidden": false,
          "outputs_hidden": false
        },
        "nteract": {
          "transient": {
            "deleting": false
          }
        }
      }
    }
  ],
  "metadata": {
    "kernelspec": {
      "name": "python3-azureml",
      "language": "python",
      "display_name": "Python 3.6 - AzureML"
    },
    "language_info": {
      "name": "python",
      "version": "3.6.9",
      "mimetype": "text/x-python",
      "codemirror_mode": {
        "name": "ipython",
        "version": 3
      },
      "pygments_lexer": "ipython3",
      "nbconvert_exporter": "python",
      "file_extension": ".py"
    },
    "kernel_info": {
      "name": "python3-azureml"
    },
    "nteract": {
      "version": "nteract-front-end@1.0.0"
    },
    "microsoft": {
      "host": {
        "AzureML": {
          "notebookHasBeenCompleted": true
        }
      }
    }
  },
  "nbformat": 4,
  "nbformat_minor": 2
}